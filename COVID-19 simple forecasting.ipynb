{
 "cells": [
  {
   "cell_type": "code",
   "execution_count": 1,
   "id": "80654672-87f9-48dd-ba95-4505e809f203",
   "metadata": {},
   "outputs": [
    {
     "ename": "ModuleNotFoundError",
     "evalue": "No module named 'lifelines'",
     "output_type": "error",
     "traceback": [
      "\u001b[0;31m---------------------------------------------------------------------------\u001b[0m",
      "\u001b[0;31mModuleNotFoundError\u001b[0m                       Traceback (most recent call last)",
      "Cell \u001b[0;32mIn[1], line 7\u001b[0m\n\u001b[1;32m      5\u001b[0m \u001b[38;5;28;01mimport\u001b[39;00m \u001b[38;5;21;01mmatplotlib\u001b[39;00m\u001b[38;5;21;01m.\u001b[39;00m\u001b[38;5;21;01mpyplot\u001b[39;00m \u001b[38;5;28;01mas\u001b[39;00m \u001b[38;5;21;01mplt\u001b[39;00m\n\u001b[1;32m      6\u001b[0m \u001b[38;5;28;01mfrom\u001b[39;00m \u001b[38;5;21;01msklearn\u001b[39;00m\u001b[38;5;21;01m.\u001b[39;00m\u001b[38;5;21;01mmetrics\u001b[39;00m \u001b[38;5;28;01mimport\u001b[39;00m r2_score\n\u001b[0;32m----> 7\u001b[0m \u001b[38;5;28;01mfrom\u001b[39;00m \u001b[38;5;21;01mlifelines\u001b[39;00m \u001b[38;5;28;01mimport\u001b[39;00m KaplanMeierFitter\n\u001b[1;32m      9\u001b[0m \u001b[38;5;66;03m# Data for all countries - location, date of acquired data, total cases\u001b[39;00m\n\u001b[1;32m     10\u001b[0m col_list \u001b[38;5;241m=\u001b[39m [\u001b[38;5;124m'\u001b[39m\u001b[38;5;124miso_code\u001b[39m\u001b[38;5;124m'\u001b[39m, \u001b[38;5;124m'\u001b[39m\u001b[38;5;124mcontinent\u001b[39m\u001b[38;5;124m'\u001b[39m, \u001b[38;5;124m'\u001b[39m\u001b[38;5;124mlocation\u001b[39m\u001b[38;5;124m'\u001b[39m, \u001b[38;5;124m'\u001b[39m\u001b[38;5;124mdate\u001b[39m\u001b[38;5;124m'\u001b[39m, \u001b[38;5;124m'\u001b[39m\u001b[38;5;124mtotal_cases\u001b[39m\u001b[38;5;124m'\u001b[39m]\n",
      "\u001b[0;31mModuleNotFoundError\u001b[0m: No module named 'lifelines'"
     ]
    }
   ],
   "source": [
    "#import necessary packages\n",
    "\n",
    "import pandas as pd\n",
    "import numpy as np\n",
    "import matplotlib.pyplot as plt\n",
    "from sklearn.metrics import r2_score\n",
    "from lifelines import KaplanMeierFitter\n",
    "\n",
    "# Data for all countries - location, date of acquired data, total cases\n",
    "col_list = ['iso_code', 'continent', 'location', 'date', 'total_cases']\n",
    "df_total = pd.read_csv(r'***.csv', usecols=col_list)\n",
    "\n",
    "#Getting a specific variable out of the owid data\n",
    "df_world_df = df_total.loc[df_total['iso_code'] == 'OWID_WRL']\n",
    "\n",
    "index = df_world_df.index\n",
    "number_of_rows = len(index)\n",
    "\n",
    "\n",
    "#Adding day column to know what day we're working with\n",
    "df_world_df['Days'] = range (1, len(df_world_df['iso_code'])+1)\n",
    "df_world_df\n",
    "\n",
    "#plotting\n",
    "\n",
    "x = df_world_df['Days']\n",
    "y = df_world_df['total_cases']\n",
    "\n",
    "plt.plot(x,y)\n",
    "\n",
    "#adding trendline and getting x,y and r2 values\n",
    "plt.plot(x,y,\"+\", ms=0.3, mec=\"k\")\n",
    "z = np.polyfit(x, y, 1)\n",
    "y_hat = np.poly1d(z)(x)\n",
    "\n",
    "z = np.polyfit (x, y, 1)\n",
    "y_hat = np.poly1d(z)(x)\n",
    "\n",
    "plt.plot(x,y_hat, 'r--', lw = 1)\n",
    "text = f\"$y={z[0]:0.3f}\\;x{z[1]:+0.3f}$\\n$R^2 = {r2_score(y,y_hat):0.3f}$\"\n",
    "plt.gca().text(0.05, 0.95, text,transform=plt.gca().transAxes,\n",
    "     fontsize=14, verticalalignment='top')\n",
    "\n",
    "\n",
    "plt.show()\n",
    "\n",
    "\n",
    "# find intercept get total gradients and total intercepts\n",
    "slope, inter = np.polyfit(x, y, 1)\n",
    "\n",
    "intercept = -47092293.674 - inter\n",
    "\n",
    "\n",
    "\n",
    "gradient = 421645.257\n",
    "gradientm25 = gradient * 0.75\n",
    "gradientp25 = gradient * 1.25\n",
    "\n",
    "intercept = -47092293.674 - inter\n",
    "interceptm25 = intercept * 0.75\n",
    "interceptp25 = intercept * 1.25\n",
    "\n",
    "print('Gradient: ', gradient, '|', 'Gradient -25%: ', gradientm25, '|', 'Gradient +25%: ', gradientp25)\n",
    "print('Intercept: ', intercept, '|', 'Intercept -25%: ', interceptm25, '|', 'Intercept +25%: ', interceptp25)"
   ]
  },
  {
   "cell_type": "code",
   "execution_count": null,
   "id": "14c3523f-4f2c-4c16-848a-a04e32258a5e",
   "metadata": {},
   "outputs": [],
   "source": []
  }
 ],
 "metadata": {
  "kernelspec": {
   "display_name": "Python 3 (ipykernel)",
   "language": "python",
   "name": "python3"
  },
  "language_info": {
   "codemirror_mode": {
    "name": "ipython",
    "version": 3
   },
   "file_extension": ".py",
   "mimetype": "text/x-python",
   "name": "python",
   "nbconvert_exporter": "python",
   "pygments_lexer": "ipython3",
   "version": "3.11.5"
  },
  "widgets": {
   "application/vnd.jupyter.widget-state+json": {
    "state": {},
    "version_major": 2,
    "version_minor": 0
   }
  }
 },
 "nbformat": 4,
 "nbformat_minor": 5
}
